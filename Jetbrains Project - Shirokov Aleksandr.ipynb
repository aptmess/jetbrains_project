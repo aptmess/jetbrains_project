{
 "cells": [
  {
   "cell_type": "code",
   "execution_count": 1,
   "metadata": {},
   "outputs": [],
   "source": [
    "import numpy as np\n",
    "import pandas as pd\n",
    "import seaborn as sns\n",
    "from joblib import dump\n",
    "import matplotlib.pyplot as plt\n",
    "data = pd.read_csv('data/predict.csv')"
   ]
  },
  {
   "cell_type": "markdown",
   "metadata": {},
   "source": [
    "`pip install -r requirements.txt` - установка необходимых библиотек"
   ]
  },
  {
   "cell_type": "markdown",
   "metadata": {},
   "source": [
    "## 01. Предварительный анализ данных"
   ]
  },
  {
   "cell_type": "code",
   "execution_count": 2,
   "metadata": {},
   "outputs": [
    {
     "name": "stdout",
     "output_type": "stream",
     "text": [
      "<class 'pandas.core.frame.DataFrame'>\n",
      "RangeIndex: 479 entries, 0 to 478\n",
      "Data columns (total 16 columns):\n",
      " #   Column                      Non-Null Count  Dtype  \n",
      "---  ------                      --------------  -----  \n",
      " 0   recency                     479 non-null    int64  \n",
      " 1   topic_rank                  479 non-null    float64\n",
      " 2   diversity                   479 non-null    float64\n",
      " 3   authors_mean_rank           473 non-null    float64\n",
      " 4   authors_mean_hindex         473 non-null    float64\n",
      " 5   authors_mean_gindex         473 non-null    float64\n",
      " 6   authors_mean_sociality      473 non-null    float64\n",
      " 7   authors_mean_pagerank       0 non-null      float64\n",
      " 8   authors_mean_productivity   0 non-null      float64\n",
      " 9   journal_pagerank            0 non-null      float64\n",
      " 10  journal_rank                440 non-null    float64\n",
      " 11  title_len                   479 non-null    int64  \n",
      " 12  abstract_len                479 non-null    int64  \n",
      " 13  n_authors                   479 non-null    int64  \n",
      " 14  c5                          479 non-null    float64\n",
      " 15  log_authors_mean_sociality  473 non-null    float64\n",
      "dtypes: float64(12), int64(4)\n",
      "memory usage: 60.0 KB\n"
     ]
    }
   ],
   "source": [
    "data.info()"
   ]
  },
  {
   "cell_type": "markdown",
   "metadata": {},
   "source": [
    "Не будем работать с признаками `authors_mean_pagerank`, `authors_mean_productivity` и `journal_pagerank`."
   ]
  },
  {
   "cell_type": "code",
   "execution_count": 3,
   "metadata": {},
   "outputs": [],
   "source": [
    "df_preprocessed = (\n",
    "    data\n",
    "    .drop(['authors_mean_pagerank', \n",
    "           'authors_mean_productivity', \n",
    "           'journal_pagerank'], \n",
    "          axis=1)\n",
    ")"
   ]
  },
  {
   "cell_type": "code",
   "execution_count": 4,
   "metadata": {},
   "outputs": [
    {
     "name": "stdout",
     "output_type": "stream",
     "text": [
      "<class 'pandas.core.frame.DataFrame'>\n",
      "RangeIndex: 479 entries, 0 to 478\n",
      "Data columns (total 13 columns):\n",
      " #   Column                      Non-Null Count  Dtype  \n",
      "---  ------                      --------------  -----  \n",
      " 0   recency                     479 non-null    int64  \n",
      " 1   topic_rank                  479 non-null    float64\n",
      " 2   diversity                   479 non-null    float64\n",
      " 3   authors_mean_rank           473 non-null    float64\n",
      " 4   authors_mean_hindex         473 non-null    float64\n",
      " 5   authors_mean_gindex         473 non-null    float64\n",
      " 6   authors_mean_sociality      473 non-null    float64\n",
      " 7   journal_rank                440 non-null    float64\n",
      " 8   title_len                   479 non-null    int64  \n",
      " 9   abstract_len                479 non-null    int64  \n",
      " 10  n_authors                   479 non-null    int64  \n",
      " 11  c5                          479 non-null    float64\n",
      " 12  log_authors_mean_sociality  473 non-null    float64\n",
      "dtypes: float64(9), int64(4)\n",
      "memory usage: 48.8 KB\n"
     ]
    }
   ],
   "source": [
    "df_preprocessed.info()"
   ]
  },
  {
   "cell_type": "markdown",
   "metadata": {},
   "source": [
    "Все признаки числовые, категориальных признаков нет, но присутствуют дубликаты - решим, что с ними делать."
   ]
  },
  {
   "cell_type": "code",
   "execution_count": 5,
   "metadata": {},
   "outputs": [
    {
     "name": "stdout",
     "output_type": "stream",
     "text": [
      "Nan recency: []\n",
      "Nan topic_rank: []\n",
      "Nan diversity: []\n",
      "Nan authors_mean_rank: [418, 422, 423, 451, 458, 464]\n",
      "Nan authors_mean_hindex: [418, 422, 423, 451, 458, 464]\n",
      "Nan authors_mean_gindex: [418, 422, 423, 451, 458, 464]\n",
      "Nan authors_mean_sociality: [418, 422, 423, 451, 458, 464]\n",
      "Nan journal_rank: 39 пропущенных значений\n",
      "Nan title_len: []\n",
      "Nan abstract_len: []\n",
      "Nan n_authors: []\n",
      "Nan c5: []\n",
      "Nan log_authors_mean_sociality: [418, 422, 423, 451, 458, 464]\n"
     ]
    }
   ],
   "source": [
    "for col in df_preprocessed.columns:\n",
    "    nan_indices = list(df_preprocessed[col].index[df_preprocessed[col].apply(np.isnan)])\n",
    "    output_string = nan_indices if len(nan_indices) < 10 else f'{len(nan_indices)} пропущенных значений'\n",
    "    print(f'Nan {col}: {output_string}')"
   ]
  },
  {
   "cell_type": "markdown",
   "metadata": {},
   "source": [
    "Точно удалим строки с индексами `[418, 422, 423, 451, 458, 464]` из таблицы, а признак `journal_rank` постараемся не использовать (либо потом тоже удалим строки) / заполним средними значениями. Создадим новую таблицу с внесёнными изменениями."
   ]
  },
  {
   "cell_type": "code",
   "execution_count": 6,
   "metadata": {},
   "outputs": [],
   "source": [
    "df_preprocessed_dropna = (\n",
    "    df_preprocessed[~df_preprocessed.index.isin([418, 422, 423, 451, 458, 464])]\n",
    "    .reset_index(drop=True)\n",
    ")"
   ]
  },
  {
   "cell_type": "markdown",
   "metadata": {},
   "source": [
    "Посчитаем количество уникальных значений каждого признака."
   ]
  },
  {
   "cell_type": "code",
   "execution_count": 7,
   "metadata": {},
   "outputs": [
    {
     "name": "stdout",
     "output_type": "stream",
     "text": [
      "FEATURES: UNIQUE VALUES\n",
      "\n",
      "1. recency: 21\n",
      "2. topic_rank: 20\n",
      "3. diversity: 468\n",
      "4. authors_mean_rank: 287\n",
      "5. authors_mean_hindex: 4\n",
      "6. authors_mean_gindex: 5\n",
      "7. authors_mean_sociality: 20\n",
      "8. journal_rank: 191\n",
      "9. title_len: 150\n",
      "10. abstract_len: 386\n",
      "11. n_authors: 16\n",
      "13. log_authors_mean_sociality: 20\n"
     ]
    }
   ],
   "source": [
    "d = {}\n",
    "print('FEATURES: UNIQUE VALUES\\n')\n",
    "for feature_num, col in enumerate(df_preprocessed_dropna.columns, 1):\n",
    "    if col != 'c5': \n",
    "        val = pd.unique(df_preprocessed_dropna[col])\n",
    "        print(f'{feature_num}. {col}: {len(val)}')"
   ]
  },
  {
   "cell_type": "markdown",
   "metadata": {},
   "source": [
    "Рассмотрим признаки `authors_mean_hindex` и `authors_mean_gindex` с малым количестввом уникальных значений признака."
   ]
  },
  {
   "cell_type": "code",
   "execution_count": 8,
   "metadata": {},
   "outputs": [
    {
     "data": {
      "text/plain": [
       "1.000000    395\n",
       "0.000000     74\n",
       "1.125000      2\n",
       "1.166667      1\n",
       "1.111111      1\n",
       "Name: authors_mean_gindex, dtype: int64"
      ]
     },
     "execution_count": 8,
     "metadata": {},
     "output_type": "execute_result"
    }
   ],
   "source": [
    "pd.value_counts(df_preprocessed_dropna['authors_mean_gindex'])"
   ]
  },
  {
   "cell_type": "code",
   "execution_count": 9,
   "metadata": {},
   "outputs": [
    {
     "data": {
      "text/plain": [
       "1.000000    397\n",
       "0.000000     74\n",
       "1.111111      1\n",
       "1.125000      1\n",
       "Name: authors_mean_hindex, dtype: int64"
      ]
     },
     "execution_count": 9,
     "metadata": {},
     "output_type": "execute_result"
    }
   ],
   "source": [
    "pd.value_counts(df_preprocessed_dropna['authors_mean_hindex'])"
   ]
  },
  {
   "cell_type": "markdown",
   "metadata": {},
   "source": [
    "Видим, что в данных двух признаках преобладают значения `0` и `1` - удалим строки со значениями этих признаков за пределами этих двух значений."
   ]
  },
  {
   "cell_type": "code",
   "execution_count": 10,
   "metadata": {},
   "outputs": [],
   "source": [
    "df_preprocessed_dropna = df_preprocessed_dropna[df_preprocessed_dropna['authors_mean_gindex'].isin([0, 1])]\n",
    "df_preprocessed_dropna = df_preprocessed_dropna[df_preprocessed_dropna['authors_mean_hindex'].isin([0, 1])]"
   ]
  },
  {
   "cell_type": "markdown",
   "metadata": {},
   "source": [
    "Построим гистограммы распределения каждого из признаков."
   ]
  },
  {
   "cell_type": "code",
   "execution_count": 11,
   "metadata": {},
   "outputs": [],
   "source": [
    "def data_column_histogram(data: pd.DataFrame, name_of_column: str):\n",
    "    '''\n",
    "    Построение гистограммы\n",
    "    \n",
    "    data : pd.DataFrame\n",
    "        - входная матрица признаков\n",
    "    name_of_column: str\n",
    "        - строковое название признака, должен быть столбцом в `data`\n",
    "    '''\n",
    "    n = data.shape[0]\n",
    "    fig, ax = plt.subplots(1, 1, figsize=(8, 4))\n",
    "    bar = sns.histplot(data=data[name_of_column], \n",
    "                       ax=ax, \n",
    "                       bins=int(np.log2(n)) + 1, \n",
    "                       color='lightblue')\n",
    "    ax.set_title(f'{name_of_column.capitalize()}: histogram')\n",
    "    patch_h = []    \n",
    "    for patch in bar.patches:\n",
    "        reading = patch.get_height()\n",
    "        patch_h.append(reading)\n",
    "    idx_tallest = np.argmax(patch_h)   \n",
    "    bar.patches[idx_tallest].set_facecolor('#a834a8')  \n",
    "    plt.show()"
   ]
  },
  {
   "cell_type": "code",
   "execution_count": 12,
   "metadata": {
    "scrolled": true
   },
   "outputs": [
    {
     "data": {
      "image/png": "[encoded data removed]",
      "text/plain": [
       "<Figure size 576x288 with 1 Axes>"
      ]
     },
     "metadata": {
      "needs_background": "light"
     },
     "output_type": "display_data"
    },
    {
     "data": {
      "image/png": "[encoded data removed]",
      "text/plain": [
       "<Figure size 576x288 with 1 Axes>"
      ]
     },
     "metadata": {
      "needs_background": "light"
     },
     "output_type": "display_data"
    },
    {
     "data": {
      "image/png": "[encoded data removed]",
      "text/plain": [
       "<Figure size 576x288 with 1 Axes>"
      ]
     },
     "metadata": {
      "needs_background": "light"
     },
     "output_type": "display_data"
    },
    {
     "data": {
      "image/png": "[encoded data removed]",
      "text/plain": [
       "<Figure size 576x288 with 1 Axes>"
      ]
     },
     "metadata": {
      "needs_background": "light"
     },
     "output_type": "display_data"
    },
    {
     "data": {
      "image/png": "[encoded data removed]",
      "text/plain": [
       "<Figure size 576x288 with 1 Axes>"
      ]
     },
     "metadata": {
      "needs_background": "light"
     },
     "output_type": "display_data"
    },
    {
     "data": {
      "image/png": "[encoded data removed]",
      "text/plain": [
       "<Figure size 576x288 with 1 Axes>"
      ]
     },
     "metadata": {
      "needs_background": "light"
     },
     "output_type": "display_data"
    },
    {
     "data": {
      "image/png": "[encoded data removed]",
      "text/plain": [
       "<Figure size 576x288 with 1 Axes>"
      ]
     },
     "metadata": {
      "needs_background": "light"
     },
     "output_type": "display_data"
    },
    {
     "data": {
      "image/png": "[encoded data removed]",
      "text/plain": [
       "<Figure size 576x288 with 1 Axes>"
      ]
     },
     "metadata": {
      "needs_background": "light"
     },
     "output_type": "display_data"
    },
    {
     "data": {
      "image/png": "[encoded data removed]",
      "text/plain": [
       "<Figure size 576x288 with 1 Axes>"
      ]
     },
     "metadata": {
      "needs_background": "light"
     },
     "output_type": "display_data"
    },
    {
     "data": {
      "image/png": "[encoded data removed]",
      "text/plain": [
       "<Figure size 576x288 with 1 Axes>"
      ]
     },
     "metadata": {
      "needs_background": "light"
     },
     "output_type": "display_data"
    },
    {
     "data": {
      "image/png": "[encoded data removed]",
      "text/plain": [
       "<Figure size 576x288 with 1 Axes>"
      ]
     },
     "metadata": {
      "needs_background": "light"
     },
     "output_type": "display_data"
    },
    {
     "data": {
      "image/png": "[encoded data removed]",
      "text/plain": [
       "<Figure size 576x288 with 1 Axes>"
      ]
     },
     "metadata": {
      "needs_background": "light"
     },
     "output_type": "display_data"
    },
    {
     "data": {
      "image/png": "[encoded data removed]",
      "text/plain": [
       "<Figure size 576x288 with 1 Axes>"
      ]
     },
     "metadata": {
      "needs_background": "light"
     },
     "output_type": "display_data"
    }
   ],
   "source": [
    "for col in df_preprocessed.columns:\n",
    "    data_column_histogram(df_preprocessed_dropna, col)"
   ]
  },
  {
   "cell_type": "markdown",
   "metadata": {},
   "source": [
    "Видим, что распределение целевой переменной `С5` не является нормальным. Посмотрим на коореляцию признаков с целевой переменной `c5`."
   ]
  },
  {
   "cell_type": "code",
   "execution_count": 13,
   "metadata": {},
   "outputs": [
    {
     "data": {
      "text/plain": [
       "recency                      -0.207365\n",
       "topic_rank                   -0.007175\n",
       "diversity                     0.063071\n",
       "authors_mean_rank            -0.355238\n",
       "authors_mean_hindex           0.233550\n",
       "authors_mean_gindex           0.233550\n",
       "authors_mean_sociality        0.137201\n",
       "journal_rank                 -0.360767\n",
       "title_len                    -0.000866\n",
       "abstract_len                  0.203857\n",
       "n_authors                     0.137201\n",
       "c5                            1.000000\n",
       "log_authors_mean_sociality    0.107208\n",
       "Name: c5, dtype: float64"
      ]
     },
     "execution_count": 13,
     "metadata": {},
     "output_type": "execute_result"
    }
   ],
   "source": [
    "df_preprocessed_dropna.corr()['c5']"
   ]
  },
  {
   "cell_type": "markdown",
   "metadata": {},
   "source": [
    "Линейной зависимости между переменными и $с5$ тоже нет."
   ]
  },
  {
   "cell_type": "markdown",
   "metadata": {},
   "source": [
    "## 2. Подбор модели"
   ]
  },
  {
   "cell_type": "markdown",
   "metadata": {},
   "source": [
    "### 2.1. `ExtraTreesRegressor`"
   ]
  },
  {
   "cell_type": "code",
   "execution_count": 14,
   "metadata": {},
   "outputs": [],
   "source": [
    "def regressors_model(X, y, model):\n",
    "    '''\n",
    "    Fit Regressors\n",
    "    '''\n",
    "    regressors = []\n",
    "    mean_r2_score = []\n",
    "    importances_ = []\n",
    "    for i in range(10):\n",
    "        r2 = []\n",
    "        ETR = model\n",
    "        for train_index, test_index in cv.split(X):\n",
    "            X_train, X_test = X[train_index], X[test_index]\n",
    "            y_train, y_test = y[train_index], y[test_index]\n",
    "            ETR.fit(X_train, y_train)\n",
    "            r2.append(r2_score(y_true=y_test, \n",
    "                               y_pred=ETR.predict(X_test)))\n",
    "            importances_.append(ETR.feature_importances_)\n",
    "        regressors.append(ETR)\n",
    "        print(f'iteration {i}, R2: {np.mean(r2)}')\n",
    "        mean_r2_score.append(np.mean(r2))\n",
    "    print(f'mean: {np.mean(mean_r2_score)}')\n",
    "    return importances_, regressors\n",
    "\n",
    "def classifiers_model(X, y, model):\n",
    "    '''\n",
    "    Fit Classifiers\n",
    "    '''\n",
    "    classifiers = []\n",
    "    mean_accuracy_score, mean_auc, mean_f1 = [], [], []\n",
    "    for i in range(10):\n",
    "        accuracy_, roc_auc_score_, f1_score_ = [], [], []\n",
    "        RFC = model\n",
    "        for train_index, test_index in cv.split(X):\n",
    "            X_train, X_test = X[train_index], X[test_index]\n",
    "            y_train, y_test = y[train_index], y[test_index]\n",
    "            RFC.fit(X_train, y_train)\n",
    "            accuracy_.append(accuracy_score(y_true=y_test, \n",
    "                               y_pred=RFC.predict(X_test)))\n",
    "            roc_auc_score_.append(roc_auc_score(y_true=y_test, \n",
    "                               y_score=RFC.predict(X_test)))\n",
    "            f1_score_.append(f1_score(y_true=y_test, \n",
    "                               y_pred=RFC.predict(X_test)))\n",
    "        classifiers.append(RFC)\n",
    "        print(f'''Iteration {i}. \n",
    "        ACC: {np.mean(accuracy_):.4}\n",
    "        ROC-AUC: {np.mean(roc_auc_score_):.4}\n",
    "        F1-SCORE: {np.mean(f1_score_):.4}''')\n",
    "        mean_accuracy_score.append(np.mean(accuracy_))\n",
    "        mean_auc.append(np.mean(roc_auc_score_))\n",
    "        mean_f1.append(np.mean(f1_score_))\n",
    "    print(f'ACCURACY: {np.mean(mean_accuracy_score)}')\n",
    "    print(f'AUC-SCORE: {np.mean(mean_auc)}')\n",
    "    print(f'F1-SCORE: {np.mean(mean_f1)}')\n",
    "    return classifiers"
   ]
  },
  {
   "cell_type": "markdown",
   "metadata": {},
   "source": [
    "Будем использовать нелинейные методы, а именно обучим $10$ регрессов, состоящих из ансамбля решающих деревьев - разновидности случайного леса `ExtraTreesRegressor`"
   ]
  },
  {
   "cell_type": "code",
   "execution_count": 15,
   "metadata": {},
   "outputs": [],
   "source": [
    "from sklearn.ensemble import ExtraTreesRegressor"
   ]
  },
  {
   "cell_type": "markdown",
   "metadata": {},
   "source": [
    "В качестве кросс-валидационного метода будем использовать перекрёстную проверку по фолдам `KFold CV`:"
   ]
  },
  {
   "cell_type": "code",
   "execution_count": 16,
   "metadata": {},
   "outputs": [],
   "source": [
    "from sklearn.model_selection import KFold"
   ]
  },
  {
   "cell_type": "code",
   "execution_count": 17,
   "metadata": {},
   "outputs": [],
   "source": [
    "cv = KFold(n_splits=5, shuffle=True)"
   ]
  },
  {
   "cell_type": "markdown",
   "metadata": {},
   "source": [
    "В качестве оценки качества модели будем использовать следующую функции ошибки:\n",
    "\n",
    "- `R2` - коэффициент детерминации, доля объяснённой дисперсии:\n",
    "\n",
    "$$R^2 = \\frac{\\sum\\limits_{i=1}^n \\left(\\hat{y}_i - \\bar{y}\\right)^2}{\\sum\\limits_{i=1}^n \\left(y_i - \\bar{y}\\right)^2}$$"
   ]
  },
  {
   "cell_type": "code",
   "execution_count": 18,
   "metadata": {},
   "outputs": [],
   "source": [
    "from sklearn.metrics import r2_score"
   ]
  },
  {
   "cell_type": "markdown",
   "metadata": {},
   "source": [
    "В более перевёдем нашии признаки и целевую переменную в привычное обозначение - удалим признак `journal_rank` из-за большого количества нулевых значений, а так же два признака, состоящих лишь из значений `0, 1`."
   ]
  },
  {
   "cell_type": "code",
   "execution_count": 19,
   "metadata": {},
   "outputs": [],
   "source": [
    "X_ = (\n",
    "    df_preprocessed_dropna\n",
    "    .drop(['c5', \n",
    "           'journal_rank', \n",
    "           'authors_mean_hindex', \n",
    "           'authors_mean_gindex'], \n",
    "          axis=1)\n",
    ")\n",
    "X = X_.values\n",
    "y = df_preprocessed_dropna['c5'].values"
   ]
  },
  {
   "cell_type": "code",
   "execution_count": 20,
   "metadata": {},
   "outputs": [
    {
     "name": "stdout",
     "output_type": "stream",
     "text": [
      "iteration 0, R2: 0.7129239947172893\n",
      "iteration 1, R2: 0.6889553498412944\n",
      "iteration 2, R2: 0.6851476330137121\n",
      "iteration 3, R2: 0.6679774783976622\n",
      "iteration 4, R2: 0.622602647595116\n",
      "iteration 5, R2: 0.6681869371787059\n",
      "iteration 6, R2: 0.6479489956805243\n",
      "iteration 7, R2: 0.6824384244681243\n",
      "iteration 8, R2: 0.6788587421550305\n",
      "iteration 9, R2: 0.7010965868087552\n",
      "mean: 0.6756136789856215\n"
     ]
    }
   ],
   "source": [
    "importances_, regressors = regressors_model(X, y, ExtraTreesRegressor(n_estimators=500))"
   ]
  },
  {
   "cell_type": "markdown",
   "metadata": {},
   "source": [
    "Среднее значение `R2` варьируется на кросс-валидации в пределах `0.65-0.69`. Исследуем важность признаков с помощью `feature importance` в деревьях - чем больше признак уменьшает неоднородность, тем он важнее."
   ]
  },
  {
   "cell_type": "code",
   "execution_count": 21,
   "metadata": {},
   "outputs": [],
   "source": [
    "df_importance = pd.DataFrame(data=np.array(importances_).mean(axis=0), \n",
    "                             index=X_.columns,\n",
    "                             columns=['importance'])"
   ]
  },
  {
   "cell_type": "code",
   "execution_count": 22,
   "metadata": {},
   "outputs": [
    {
     "data": {
      "image/png": "[encoded data removed]",
      "text/plain": [
       "<Figure size 432x288 with 1 Axes>"
      ]
     },
     "metadata": {
      "needs_background": "light"
     },
     "output_type": "display_data"
    }
   ],
   "source": [
    "(\n",
    "    df_importance\n",
    "    .sort_values(by='importance')\n",
    "    .plot\n",
    "    .barh(color='lightblue')\n",
    ")\n",
    "plt.show()"
   ]
  },
  {
   "cell_type": "markdown",
   "metadata": {},
   "source": [
    "Видим, что наиболее важными признаками в обученной модели являются `authors_mean_rank` и `recency` - чуть более подробно о смысле этих признаков надеюсь узнать далее."
   ]
  },
  {
   "cell_type": "markdown",
   "metadata": {},
   "source": [
    "Сохраняем модель - список обученных регрессоров. Ответ на тестовой выборке - среднее значение предсказаний регрессоров."
   ]
  },
  {
   "cell_type": "code",
   "execution_count": 23,
   "metadata": {},
   "outputs": [
    {
     "data": {
      "text/plain": [
       "['ETR_ensemble.joblib']"
      ]
     },
     "execution_count": 23,
     "metadata": {},
     "output_type": "execute_result"
    }
   ],
   "source": [
    "dump(regressors, \"ETR_ensemble.joblib\")"
   ]
  },
  {
   "cell_type": "markdown",
   "metadata": {},
   "source": [
    "### 2.2. `Binary Classification` + надстройка"
   ]
  },
  {
   "cell_type": "markdown",
   "metadata": {},
   "source": [
    "Используем следующую идею - будем сначала предсказывать, какие статьи будут цитироваться, а какие нет - затем для статей, которые предсказаны в качестве `перспективных` настроим модель по предсказанию публикаций."
   ]
  },
  {
   "cell_type": "markdown",
   "metadata": {},
   "source": [
    "### 2.2.1 Classification - `Perspective / Non perspective`"
   ]
  },
  {
   "cell_type": "markdown",
   "metadata": {},
   "source": [
    "Сформируем признаковое пространство."
   ]
  },
  {
   "cell_type": "code",
   "execution_count": 24,
   "metadata": {},
   "outputs": [],
   "source": [
    "from sklearn.ensemble import RandomForestClassifier, ExtraTreesClassifier\n",
    "from sklearn.metrics import accuracy_score, roc_auc_score, f1_score"
   ]
  },
  {
   "cell_type": "markdown",
   "metadata": {},
   "source": [
    "Создадим новый признак целевой признак из нулей и единиц."
   ]
  },
  {
   "cell_type": "code",
   "execution_count": 25,
   "metadata": {},
   "outputs": [],
   "source": [
    "df_preprocessed_dropna['perspective'] = (\n",
    "    df_preprocessed_dropna['c5']\n",
    "    .where(df_preprocessed_dropna['c5'] == 0, 1)\n",
    ")"
   ]
  },
  {
   "cell_type": "code",
   "execution_count": 26,
   "metadata": {},
   "outputs": [],
   "source": [
    "X_classifier_ = (\n",
    "    df_preprocessed_dropna\n",
    "    .drop(['c5', 'perspective',  \n",
    "           'journal_rank'], \n",
    "          axis=1)\n",
    ")\n",
    "X_classifier = X_classifier_.values\n",
    "y = df_preprocessed_dropna['perspective'].values"
   ]
  },
  {
   "cell_type": "code",
   "execution_count": 27,
   "metadata": {},
   "outputs": [],
   "source": [
    "_n = X_classifier.shape[1]"
   ]
  },
  {
   "cell_type": "markdown",
   "metadata": {},
   "source": [
    "Подберем оптимальные параметры случайного леса по сетке."
   ]
  },
  {
   "cell_type": "code",
   "execution_count": 28,
   "metadata": {},
   "outputs": [],
   "source": [
    "parameters = {'max_features': np.arange(int(np.sqrt(_n)) - 2, int(np.sqrt(_n)) + 2), \n",
    "              'min_samples_leaf' : [1, 3, 5, 10]}"
   ]
  },
  {
   "cell_type": "code",
   "execution_count": 29,
   "metadata": {},
   "outputs": [
    {
     "data": {
      "text/plain": [
       "ExtraTreesClassifier(max_features=3, n_estimators=500)"
      ]
     },
     "execution_count": 29,
     "metadata": {},
     "output_type": "execute_result"
    }
   ],
   "source": [
    "from sklearn.model_selection import GridSearchCV\n",
    "estimator = ExtraTreesClassifier(n_estimators=500)\n",
    "clf = GridSearchCV(estimator, parameters, cv=cv, scoring='accuracy')\n",
    "clf.fit(X_classifier, y)\n",
    "clf.best_estimator_"
   ]
  },
  {
   "cell_type": "markdown",
   "metadata": {},
   "source": [
    "Обучим классификатор."
   ]
  },
  {
   "cell_type": "code",
   "execution_count": 30,
   "metadata": {
    "scrolled": true
   },
   "outputs": [
    {
     "name": "stdout",
     "output_type": "stream",
     "text": [
      "Iteration 0. \n",
      "        ACC: 0.904\n",
      "        ROC-AUC: 0.8243\n",
      "        F1-SCORE: 0.9389\n",
      "Iteration 1. \n",
      "        ACC: 0.9061\n",
      "        ROC-AUC: 0.829\n",
      "        F1-SCORE: 0.94\n",
      "Iteration 2. \n",
      "        ACC: 0.8976\n",
      "        ROC-AUC: 0.8105\n",
      "        F1-SCORE: 0.9345\n",
      "Iteration 3. \n",
      "        ACC: 0.9063\n",
      "        ROC-AUC: 0.8255\n",
      "        F1-SCORE: 0.9401\n",
      "Iteration 4. \n",
      "        ACC: 0.8998\n",
      "        ROC-AUC: 0.8167\n",
      "        F1-SCORE: 0.9361\n",
      "Iteration 5. \n",
      "        ACC: 0.904\n",
      "        ROC-AUC: 0.8275\n",
      "        F1-SCORE: 0.9378\n",
      "Iteration 6. \n",
      "        ACC: 0.9062\n",
      "        ROC-AUC: 0.8262\n",
      "        F1-SCORE: 0.9404\n",
      "Iteration 7. \n",
      "        ACC: 0.9062\n",
      "        ROC-AUC: 0.8205\n",
      "        F1-SCORE: 0.9399\n",
      "Iteration 8. \n",
      "        ACC: 0.904\n",
      "        ROC-AUC: 0.8334\n",
      "        F1-SCORE: 0.9377\n",
      "Iteration 9. \n",
      "        ACC: 0.9041\n",
      "        ROC-AUC: 0.8349\n",
      "        F1-SCORE: 0.9367\n",
      "ACCURACY: 0.9038435140700068\n",
      "AUC-SCORE: 0.8248550431826599\n",
      "F1-SCORE: 0.9382101794037458\n"
     ]
    }
   ],
   "source": [
    "classifiers = classifiers_model(X_classifier, y, ExtraTreesClassifier(n_estimators=500, max_features=3))"
   ]
  },
  {
   "cell_type": "markdown",
   "metadata": {},
   "source": [
    "Те объекты, которые были предсказаны в качестве $0$ - оставляем в качестве ответа алгоритма, те объекты, которые предсказаны в качестве перспективных - обучаем на второй модели - ансамбль регрессоров."
   ]
  },
  {
   "cell_type": "markdown",
   "metadata": {},
   "source": [
    "### 2.2.2. `Perspective Regression`"
   ]
  },
  {
   "cell_type": "markdown",
   "metadata": {},
   "source": [
    "Формируем выборку без бесперспективных статей."
   ]
  },
  {
   "cell_type": "code",
   "execution_count": 31,
   "metadata": {},
   "outputs": [],
   "source": [
    "df_only_perspective = df_preprocessed_dropna[df_preprocessed_dropna['c5'] !=0]"
   ]
  },
  {
   "cell_type": "code",
   "execution_count": 32,
   "metadata": {},
   "outputs": [],
   "source": [
    "X_only_perspective_ = (\n",
    "    df_only_perspective\n",
    "    .drop(['c5', \n",
    "           'perspective',\n",
    "           'journal_rank'\n",
    "          ], \n",
    "          axis=1)\n",
    ")\n",
    "X_only_perspective = X_only_perspective_.values\n",
    "y_only_perspective = df_only_perspective['c5'].values"
   ]
  },
  {
   "cell_type": "markdown",
   "metadata": {},
   "source": [
    "Обучаем модель на перспективных статьях."
   ]
  },
  {
   "cell_type": "code",
   "execution_count": 33,
   "metadata": {},
   "outputs": [
    {
     "name": "stdout",
     "output_type": "stream",
     "text": [
      "iteration 0, R2: 0.4865417562558977\n",
      "iteration 1, R2: 0.6067962014967807\n",
      "iteration 2, R2: 0.6154721734941055\n",
      "iteration 3, R2: 0.6668759647553761\n",
      "iteration 4, R2: 0.6333862359728275\n",
      "iteration 5, R2: 0.6165651395453288\n",
      "iteration 6, R2: 0.6830264318194087\n",
      "iteration 7, R2: 0.620176362741636\n",
      "iteration 8, R2: 0.6302354242041008\n",
      "iteration 9, R2: 0.6382302462340721\n",
      "mean: 0.6197305936519534\n"
     ]
    }
   ],
   "source": [
    "importances_, regressors = regressors_model(X_only_perspective, y_only_perspective, ExtraTreesRegressor(n_estimators=500))"
   ]
  },
  {
   "cell_type": "markdown",
   "metadata": {},
   "source": [
    "Результат получился хуже, чем в первой модели, но данную идею можно развивать."
   ]
  }
 ],
 "metadata": {
  "kernelspec": {
   "display_name": "Python 3",
   "language": "python",
   "name": "python3"
  },
  "language_info": {
   "codemirror_mode": {
    "name": "ipython",
    "version": 3
   },
   "file_extension": ".py",
   "mimetype": "text/x-python",
   "name": "python",
   "nbconvert_exporter": "python",
   "pygments_lexer": "ipython3",
   "version": "3.8.5"
  }
 },
 "nbformat": 4,
 "nbformat_minor": 4
}
